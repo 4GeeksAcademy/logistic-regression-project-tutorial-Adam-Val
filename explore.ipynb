{
 "cells": [
  {
   "cell_type": "code",
   "execution_count": 2,
   "metadata": {},
   "outputs": [
    {
     "data": {
      "text/html": [
       "<div>\n",
       "<style scoped>\n",
       "    .dataframe tbody tr th:only-of-type {\n",
       "        vertical-align: middle;\n",
       "    }\n",
       "\n",
       "    .dataframe tbody tr th {\n",
       "        vertical-align: top;\n",
       "    }\n",
       "\n",
       "    .dataframe thead th {\n",
       "        text-align: right;\n",
       "    }\n",
       "</style>\n",
       "<table border=\"1\" class=\"dataframe\">\n",
       "  <thead>\n",
       "    <tr style=\"text-align: right;\">\n",
       "      <th></th>\n",
       "      <th>age</th>\n",
       "      <th>job</th>\n",
       "      <th>marital</th>\n",
       "      <th>education</th>\n",
       "      <th>default</th>\n",
       "      <th>housing</th>\n",
       "      <th>loan</th>\n",
       "      <th>contact</th>\n",
       "      <th>month</th>\n",
       "      <th>day_of_week</th>\n",
       "      <th>...</th>\n",
       "      <th>campaign</th>\n",
       "      <th>pdays</th>\n",
       "      <th>previous</th>\n",
       "      <th>poutcome</th>\n",
       "      <th>emp.var.rate</th>\n",
       "      <th>cons.price.idx</th>\n",
       "      <th>cons.conf.idx</th>\n",
       "      <th>euribor3m</th>\n",
       "      <th>nr.employed</th>\n",
       "      <th>y</th>\n",
       "    </tr>\n",
       "  </thead>\n",
       "  <tbody>\n",
       "    <tr>\n",
       "      <th>0</th>\n",
       "      <td>56</td>\n",
       "      <td>housemaid</td>\n",
       "      <td>married</td>\n",
       "      <td>basic.4y</td>\n",
       "      <td>no</td>\n",
       "      <td>no</td>\n",
       "      <td>no</td>\n",
       "      <td>telephone</td>\n",
       "      <td>may</td>\n",
       "      <td>mon</td>\n",
       "      <td>...</td>\n",
       "      <td>1</td>\n",
       "      <td>999</td>\n",
       "      <td>0</td>\n",
       "      <td>nonexistent</td>\n",
       "      <td>1.1</td>\n",
       "      <td>93.994</td>\n",
       "      <td>-36.4</td>\n",
       "      <td>4.857</td>\n",
       "      <td>5191.0</td>\n",
       "      <td>no</td>\n",
       "    </tr>\n",
       "    <tr>\n",
       "      <th>1</th>\n",
       "      <td>57</td>\n",
       "      <td>services</td>\n",
       "      <td>married</td>\n",
       "      <td>high.school</td>\n",
       "      <td>unknown</td>\n",
       "      <td>no</td>\n",
       "      <td>no</td>\n",
       "      <td>telephone</td>\n",
       "      <td>may</td>\n",
       "      <td>mon</td>\n",
       "      <td>...</td>\n",
       "      <td>1</td>\n",
       "      <td>999</td>\n",
       "      <td>0</td>\n",
       "      <td>nonexistent</td>\n",
       "      <td>1.1</td>\n",
       "      <td>93.994</td>\n",
       "      <td>-36.4</td>\n",
       "      <td>4.857</td>\n",
       "      <td>5191.0</td>\n",
       "      <td>no</td>\n",
       "    </tr>\n",
       "    <tr>\n",
       "      <th>2</th>\n",
       "      <td>37</td>\n",
       "      <td>services</td>\n",
       "      <td>married</td>\n",
       "      <td>high.school</td>\n",
       "      <td>no</td>\n",
       "      <td>yes</td>\n",
       "      <td>no</td>\n",
       "      <td>telephone</td>\n",
       "      <td>may</td>\n",
       "      <td>mon</td>\n",
       "      <td>...</td>\n",
       "      <td>1</td>\n",
       "      <td>999</td>\n",
       "      <td>0</td>\n",
       "      <td>nonexistent</td>\n",
       "      <td>1.1</td>\n",
       "      <td>93.994</td>\n",
       "      <td>-36.4</td>\n",
       "      <td>4.857</td>\n",
       "      <td>5191.0</td>\n",
       "      <td>no</td>\n",
       "    </tr>\n",
       "    <tr>\n",
       "      <th>3</th>\n",
       "      <td>40</td>\n",
       "      <td>admin.</td>\n",
       "      <td>married</td>\n",
       "      <td>basic.6y</td>\n",
       "      <td>no</td>\n",
       "      <td>no</td>\n",
       "      <td>no</td>\n",
       "      <td>telephone</td>\n",
       "      <td>may</td>\n",
       "      <td>mon</td>\n",
       "      <td>...</td>\n",
       "      <td>1</td>\n",
       "      <td>999</td>\n",
       "      <td>0</td>\n",
       "      <td>nonexistent</td>\n",
       "      <td>1.1</td>\n",
       "      <td>93.994</td>\n",
       "      <td>-36.4</td>\n",
       "      <td>4.857</td>\n",
       "      <td>5191.0</td>\n",
       "      <td>no</td>\n",
       "    </tr>\n",
       "    <tr>\n",
       "      <th>4</th>\n",
       "      <td>56</td>\n",
       "      <td>services</td>\n",
       "      <td>married</td>\n",
       "      <td>high.school</td>\n",
       "      <td>no</td>\n",
       "      <td>no</td>\n",
       "      <td>yes</td>\n",
       "      <td>telephone</td>\n",
       "      <td>may</td>\n",
       "      <td>mon</td>\n",
       "      <td>...</td>\n",
       "      <td>1</td>\n",
       "      <td>999</td>\n",
       "      <td>0</td>\n",
       "      <td>nonexistent</td>\n",
       "      <td>1.1</td>\n",
       "      <td>93.994</td>\n",
       "      <td>-36.4</td>\n",
       "      <td>4.857</td>\n",
       "      <td>5191.0</td>\n",
       "      <td>no</td>\n",
       "    </tr>\n",
       "  </tbody>\n",
       "</table>\n",
       "<p>5 rows × 21 columns</p>\n",
       "</div>"
      ],
      "text/plain": [
       "   age        job  marital    education  default housing loan    contact  \\\n",
       "0   56  housemaid  married     basic.4y       no      no   no  telephone   \n",
       "1   57   services  married  high.school  unknown      no   no  telephone   \n",
       "2   37   services  married  high.school       no     yes   no  telephone   \n",
       "3   40     admin.  married     basic.6y       no      no   no  telephone   \n",
       "4   56   services  married  high.school       no      no  yes  telephone   \n",
       "\n",
       "  month day_of_week  ...  campaign  pdays  previous     poutcome emp.var.rate  \\\n",
       "0   may         mon  ...         1    999         0  nonexistent          1.1   \n",
       "1   may         mon  ...         1    999         0  nonexistent          1.1   \n",
       "2   may         mon  ...         1    999         0  nonexistent          1.1   \n",
       "3   may         mon  ...         1    999         0  nonexistent          1.1   \n",
       "4   may         mon  ...         1    999         0  nonexistent          1.1   \n",
       "\n",
       "   cons.price.idx  cons.conf.idx  euribor3m  nr.employed   y  \n",
       "0          93.994          -36.4      4.857       5191.0  no  \n",
       "1          93.994          -36.4      4.857       5191.0  no  \n",
       "2          93.994          -36.4      4.857       5191.0  no  \n",
       "3          93.994          -36.4      4.857       5191.0  no  \n",
       "4          93.994          -36.4      4.857       5191.0  no  \n",
       "\n",
       "[5 rows x 21 columns]"
      ]
     },
     "execution_count": 2,
     "metadata": {},
     "output_type": "execute_result"
    }
   ],
   "source": [
    "import pandas as pd\n",
    "\n",
    "fred = pd.read_csv(\"https://raw.githubusercontent.com/4GeeksAcademy/logistic-regression-project-tutorial/main/bank-marketing-campaign-data.csv\", sep = \";\")\n",
    "fred.head()"
   ]
  },
  {
   "cell_type": "code",
   "execution_count": 3,
   "metadata": {},
   "outputs": [
    {
     "data": {
      "text/plain": [
       "(41188, 21)"
      ]
     },
     "execution_count": 3,
     "metadata": {},
     "output_type": "execute_result"
    }
   ],
   "source": [
    "fred.shape"
   ]
  },
  {
   "cell_type": "code",
   "execution_count": 4,
   "metadata": {},
   "outputs": [
    {
     "name": "stdout",
     "output_type": "stream",
     "text": [
      "<class 'pandas.core.frame.DataFrame'>\n",
      "RangeIndex: 41188 entries, 0 to 41187\n",
      "Data columns (total 21 columns):\n",
      " #   Column          Non-Null Count  Dtype  \n",
      "---  ------          --------------  -----  \n",
      " 0   age             41188 non-null  int64  \n",
      " 1   job             41188 non-null  object \n",
      " 2   marital         41188 non-null  object \n",
      " 3   education       41188 non-null  object \n",
      " 4   default         41188 non-null  object \n",
      " 5   housing         41188 non-null  object \n",
      " 6   loan            41188 non-null  object \n",
      " 7   contact         41188 non-null  object \n",
      " 8   month           41188 non-null  object \n",
      " 9   day_of_week     41188 non-null  object \n",
      " 10  duration        41188 non-null  int64  \n",
      " 11  campaign        41188 non-null  int64  \n",
      " 12  pdays           41188 non-null  int64  \n",
      " 13  previous        41188 non-null  int64  \n",
      " 14  poutcome        41188 non-null  object \n",
      " 15  emp.var.rate    41188 non-null  float64\n",
      " 16  cons.price.idx  41188 non-null  float64\n",
      " 17  cons.conf.idx   41188 non-null  float64\n",
      " 18  euribor3m       41188 non-null  float64\n",
      " 19  nr.employed     41188 non-null  float64\n",
      " 20  y               41188 non-null  object \n",
      "dtypes: float64(5), int64(5), object(11)\n",
      "memory usage: 6.6+ MB\n"
     ]
    }
   ],
   "source": [
    "fred.info()"
   ]
  },
  {
   "cell_type": "code",
   "execution_count": 5,
   "metadata": {},
   "outputs": [
    {
     "name": "stdout",
     "output_type": "stream",
     "text": [
      "12\n"
     ]
    }
   ],
   "source": [
    "f_dup = fred.duplicated().sum()\n",
    "print(f_dup)\n",
    "\n"
   ]
  },
  {
   "cell_type": "code",
   "execution_count": 6,
   "metadata": {},
   "outputs": [
    {
     "name": "stdout",
     "output_type": "stream",
     "text": [
      "       age          job   marital            education  default housing loan  \\\n",
      "1265    39  blue-collar   married             basic.6y       no      no   no   \n",
      "1266    39  blue-collar   married             basic.6y       no      no   no   \n",
      "12260   36      retired   married              unknown       no      no   no   \n",
      "12261   36      retired   married              unknown       no      no   no   \n",
      "14155   27   technician    single  professional.course       no      no   no   \n",
      "14234   27   technician    single  professional.course       no      no   no   \n",
      "16819   47   technician  divorced          high.school       no     yes   no   \n",
      "16956   47   technician  divorced          high.school       no     yes   no   \n",
      "18464   32   technician    single  professional.course       no     yes   no   \n",
      "18465   32   technician    single  professional.course       no     yes   no   \n",
      "20072   55     services   married          high.school  unknown      no   no   \n",
      "20216   55     services   married          high.school  unknown      no   no   \n",
      "20531   41   technician   married  professional.course       no     yes   no   \n",
      "20534   41   technician   married  professional.course       no     yes   no   \n",
      "25183   39       admin.   married    university.degree       no      no   no   \n",
      "25217   39       admin.   married    university.degree       no      no   no   \n",
      "28476   24     services    single          high.school       no     yes   no   \n",
      "28477   24     services    single          high.school       no     yes   no   \n",
      "32505   35       admin.   married    university.degree       no     yes   no   \n",
      "32516   35       admin.   married    university.degree       no     yes   no   \n",
      "36950   45       admin.   married    university.degree       no      no   no   \n",
      "36951   45       admin.   married    university.degree       no      no   no   \n",
      "38255   71      retired    single    university.degree       no      no   no   \n",
      "38281   71      retired    single    university.degree       no      no   no   \n",
      "\n",
      "         contact month day_of_week  duration  campaign  pdays  previous  \\\n",
      "1265   telephone   may         thu       124         1    999         0   \n",
      "1266   telephone   may         thu       124         1    999         0   \n",
      "12260  telephone   jul         thu        88         1    999         0   \n",
      "12261  telephone   jul         thu        88         1    999         0   \n",
      "14155   cellular   jul         mon       331         2    999         0   \n",
      "14234   cellular   jul         mon       331         2    999         0   \n",
      "16819   cellular   jul         thu        43         3    999         0   \n",
      "16956   cellular   jul         thu        43         3    999         0   \n",
      "18464   cellular   jul         thu       128         1    999         0   \n",
      "18465   cellular   jul         thu       128         1    999         0   \n",
      "20072   cellular   aug         mon        33         1    999         0   \n",
      "20216   cellular   aug         mon        33         1    999         0   \n",
      "20531   cellular   aug         tue       127         1    999         0   \n",
      "20534   cellular   aug         tue       127         1    999         0   \n",
      "25183   cellular   nov         tue       123         2    999         0   \n",
      "25217   cellular   nov         tue       123         2    999         0   \n",
      "28476   cellular   apr         tue       114         1    999         0   \n",
      "28477   cellular   apr         tue       114         1    999         0   \n",
      "32505   cellular   may         fri       348         4    999         0   \n",
      "32516   cellular   may         fri       348         4    999         0   \n",
      "36950   cellular   jul         thu       252         1    999         0   \n",
      "36951   cellular   jul         thu       252         1    999         0   \n",
      "38255  telephone   oct         tue       120         1    999         0   \n",
      "38281  telephone   oct         tue       120         1    999         0   \n",
      "\n",
      "          poutcome  emp.var.rate  cons.price.idx  cons.conf.idx  euribor3m  \\\n",
      "1265   nonexistent           1.1          93.994          -36.4      4.855   \n",
      "1266   nonexistent           1.1          93.994          -36.4      4.855   \n",
      "12260  nonexistent           1.4          93.918          -42.7      4.966   \n",
      "12261  nonexistent           1.4          93.918          -42.7      4.966   \n",
      "14155  nonexistent           1.4          93.918          -42.7      4.962   \n",
      "14234  nonexistent           1.4          93.918          -42.7      4.962   \n",
      "16819  nonexistent           1.4          93.918          -42.7      4.962   \n",
      "16956  nonexistent           1.4          93.918          -42.7      4.962   \n",
      "18464  nonexistent           1.4          93.918          -42.7      4.968   \n",
      "18465  nonexistent           1.4          93.918          -42.7      4.968   \n",
      "20072  nonexistent           1.4          93.444          -36.1      4.965   \n",
      "20216  nonexistent           1.4          93.444          -36.1      4.965   \n",
      "20531  nonexistent           1.4          93.444          -36.1      4.966   \n",
      "20534  nonexistent           1.4          93.444          -36.1      4.966   \n",
      "25183  nonexistent          -0.1          93.200          -42.0      4.153   \n",
      "25217  nonexistent          -0.1          93.200          -42.0      4.153   \n",
      "28476  nonexistent          -1.8          93.075          -47.1      1.423   \n",
      "28477  nonexistent          -1.8          93.075          -47.1      1.423   \n",
      "32505  nonexistent          -1.8          92.893          -46.2      1.313   \n",
      "32516  nonexistent          -1.8          92.893          -46.2      1.313   \n",
      "36950  nonexistent          -2.9          92.469          -33.6      1.072   \n",
      "36951  nonexistent          -2.9          92.469          -33.6      1.072   \n",
      "38255  nonexistent          -3.4          92.431          -26.9      0.742   \n",
      "38281  nonexistent          -3.4          92.431          -26.9      0.742   \n",
      "\n",
      "       nr.employed    y  \n",
      "1265        5191.0   no  \n",
      "1266        5191.0   no  \n",
      "12260       5228.1   no  \n",
      "12261       5228.1   no  \n",
      "14155       5228.1   no  \n",
      "14234       5228.1   no  \n",
      "16819       5228.1   no  \n",
      "16956       5228.1   no  \n",
      "18464       5228.1   no  \n",
      "18465       5228.1   no  \n",
      "20072       5228.1   no  \n",
      "20216       5228.1   no  \n",
      "20531       5228.1   no  \n",
      "20534       5228.1   no  \n",
      "25183       5195.8   no  \n",
      "25217       5195.8   no  \n",
      "28476       5099.1   no  \n",
      "28477       5099.1   no  \n",
      "32505       5099.1   no  \n",
      "32516       5099.1   no  \n",
      "36950       5076.2  yes  \n",
      "36951       5076.2  yes  \n",
      "38255       5017.5   no  \n",
      "38281       5017.5   no  \n"
     ]
    }
   ],
   "source": [
    "duplicate_rows = fred[fred.duplicated(keep=False)]\n",
    "\n",
    "pd.set_option('display.max_columns', None) \n",
    "print(duplicate_rows)"
   ]
  },
  {
   "cell_type": "code",
   "execution_count": 7,
   "metadata": {},
   "outputs": [
    {
     "data": {
      "text/plain": [
       "np.int64(0)"
      ]
     },
     "execution_count": 7,
     "metadata": {},
     "output_type": "execute_result"
    }
   ],
   "source": [
    "fred = fred.drop_duplicates()\n",
    "\n",
    "fred.duplicated().sum()\n"
   ]
  },
  {
   "cell_type": "markdown",
   "metadata": {},
   "source": [
    "I decided to remove the 24 rows of duplicates because I still have more than 40 000 rows, so the change is not significant."
   ]
  },
  {
   "cell_type": "markdown",
   "metadata": {},
   "source": [
    "I am going to drop these columns because these are economic indicators that do not necessarily represent a single individual in this dataset;\n",
    "\n",
    "6. `emp.var.rate`. Employment variation rate. Quarterly indicator (numeric)\n",
    "17. `cons.price.idx`. Consumer price index. Monthly indicator (numeric)\n",
    "18. `cons.conf.idx`. Consumer confidence index. Monthly indicator (numeric)\n",
    "19. `euribor3m`. EURIBOR 3-month rate. Daily indicator (numeric)\n",
    "20. `nr.employed`. Number of employees. Quarterly indicator (numeric)\n",
    "\n",
    "These values may bring clues as to what the general direction of where the market is going, but it is not a useful feature to be included in my modelling to be accurate. \n",
    "\n",
    "\n",
    "\n",
    "\n",
    "\n",
    "        "
   ]
  },
  {
   "cell_type": "code",
   "execution_count": 8,
   "metadata": {},
   "outputs": [
    {
     "data": {
      "text/html": [
       "<div>\n",
       "<style scoped>\n",
       "    .dataframe tbody tr th:only-of-type {\n",
       "        vertical-align: middle;\n",
       "    }\n",
       "\n",
       "    .dataframe tbody tr th {\n",
       "        vertical-align: top;\n",
       "    }\n",
       "\n",
       "    .dataframe thead th {\n",
       "        text-align: right;\n",
       "    }\n",
       "</style>\n",
       "<table border=\"1\" class=\"dataframe\">\n",
       "  <thead>\n",
       "    <tr style=\"text-align: right;\">\n",
       "      <th></th>\n",
       "      <th>age</th>\n",
       "      <th>job</th>\n",
       "      <th>marital</th>\n",
       "      <th>education</th>\n",
       "      <th>default</th>\n",
       "      <th>housing</th>\n",
       "      <th>loan</th>\n",
       "      <th>contact</th>\n",
       "      <th>month</th>\n",
       "      <th>day_of_week</th>\n",
       "      <th>duration</th>\n",
       "      <th>campaign</th>\n",
       "      <th>pdays</th>\n",
       "      <th>previous</th>\n",
       "      <th>poutcome</th>\n",
       "      <th>y</th>\n",
       "    </tr>\n",
       "  </thead>\n",
       "  <tbody>\n",
       "    <tr>\n",
       "      <th>0</th>\n",
       "      <td>56</td>\n",
       "      <td>housemaid</td>\n",
       "      <td>married</td>\n",
       "      <td>basic.4y</td>\n",
       "      <td>no</td>\n",
       "      <td>no</td>\n",
       "      <td>no</td>\n",
       "      <td>telephone</td>\n",
       "      <td>may</td>\n",
       "      <td>mon</td>\n",
       "      <td>261</td>\n",
       "      <td>1</td>\n",
       "      <td>999</td>\n",
       "      <td>0</td>\n",
       "      <td>nonexistent</td>\n",
       "      <td>no</td>\n",
       "    </tr>\n",
       "    <tr>\n",
       "      <th>1</th>\n",
       "      <td>57</td>\n",
       "      <td>services</td>\n",
       "      <td>married</td>\n",
       "      <td>high.school</td>\n",
       "      <td>unknown</td>\n",
       "      <td>no</td>\n",
       "      <td>no</td>\n",
       "      <td>telephone</td>\n",
       "      <td>may</td>\n",
       "      <td>mon</td>\n",
       "      <td>149</td>\n",
       "      <td>1</td>\n",
       "      <td>999</td>\n",
       "      <td>0</td>\n",
       "      <td>nonexistent</td>\n",
       "      <td>no</td>\n",
       "    </tr>\n",
       "    <tr>\n",
       "      <th>2</th>\n",
       "      <td>37</td>\n",
       "      <td>services</td>\n",
       "      <td>married</td>\n",
       "      <td>high.school</td>\n",
       "      <td>no</td>\n",
       "      <td>yes</td>\n",
       "      <td>no</td>\n",
       "      <td>telephone</td>\n",
       "      <td>may</td>\n",
       "      <td>mon</td>\n",
       "      <td>226</td>\n",
       "      <td>1</td>\n",
       "      <td>999</td>\n",
       "      <td>0</td>\n",
       "      <td>nonexistent</td>\n",
       "      <td>no</td>\n",
       "    </tr>\n",
       "    <tr>\n",
       "      <th>3</th>\n",
       "      <td>40</td>\n",
       "      <td>admin.</td>\n",
       "      <td>married</td>\n",
       "      <td>basic.6y</td>\n",
       "      <td>no</td>\n",
       "      <td>no</td>\n",
       "      <td>no</td>\n",
       "      <td>telephone</td>\n",
       "      <td>may</td>\n",
       "      <td>mon</td>\n",
       "      <td>151</td>\n",
       "      <td>1</td>\n",
       "      <td>999</td>\n",
       "      <td>0</td>\n",
       "      <td>nonexistent</td>\n",
       "      <td>no</td>\n",
       "    </tr>\n",
       "    <tr>\n",
       "      <th>4</th>\n",
       "      <td>56</td>\n",
       "      <td>services</td>\n",
       "      <td>married</td>\n",
       "      <td>high.school</td>\n",
       "      <td>no</td>\n",
       "      <td>no</td>\n",
       "      <td>yes</td>\n",
       "      <td>telephone</td>\n",
       "      <td>may</td>\n",
       "      <td>mon</td>\n",
       "      <td>307</td>\n",
       "      <td>1</td>\n",
       "      <td>999</td>\n",
       "      <td>0</td>\n",
       "      <td>nonexistent</td>\n",
       "      <td>no</td>\n",
       "    </tr>\n",
       "  </tbody>\n",
       "</table>\n",
       "</div>"
      ],
      "text/plain": [
       "   age        job  marital    education  default housing loan    contact  \\\n",
       "0   56  housemaid  married     basic.4y       no      no   no  telephone   \n",
       "1   57   services  married  high.school  unknown      no   no  telephone   \n",
       "2   37   services  married  high.school       no     yes   no  telephone   \n",
       "3   40     admin.  married     basic.6y       no      no   no  telephone   \n",
       "4   56   services  married  high.school       no      no  yes  telephone   \n",
       "\n",
       "  month day_of_week  duration  campaign  pdays  previous     poutcome   y  \n",
       "0   may         mon       261         1    999         0  nonexistent  no  \n",
       "1   may         mon       149         1    999         0  nonexistent  no  \n",
       "2   may         mon       226         1    999         0  nonexistent  no  \n",
       "3   may         mon       151         1    999         0  nonexistent  no  \n",
       "4   may         mon       307         1    999         0  nonexistent  no  "
      ]
     },
     "execution_count": 8,
     "metadata": {},
     "output_type": "execute_result"
    }
   ],
   "source": [
    "fred.drop(['emp.var.rate', 'cons.price.idx', 'cons.conf.idx', 'euribor3m','nr.employed'], axis = 1, inplace = True)\n",
    "fred.head()"
   ]
  },
  {
   "cell_type": "markdown",
   "metadata": {},
   "source": [
    "I am deciding to handle nulls before I proceed to variable analysis so that, it does not skew any correlations I want to measure."
   ]
  },
  {
   "cell_type": "code",
   "execution_count": 9,
   "metadata": {},
   "outputs": [
    {
     "data": {
      "text/plain": [
       "age            0\n",
       "job            0\n",
       "marital        0\n",
       "education      0\n",
       "default        0\n",
       "housing        0\n",
       "loan           0\n",
       "contact        0\n",
       "month          0\n",
       "day_of_week    0\n",
       "duration       0\n",
       "campaign       0\n",
       "pdays          0\n",
       "previous       0\n",
       "poutcome       0\n",
       "y              0\n",
       "dtype: int64"
      ]
     },
     "execution_count": 9,
     "metadata": {},
     "output_type": "execute_result"
    }
   ],
   "source": [
    "fred.isnull().sum().sort_values(ascending=False)"
   ]
  },
  {
   "cell_type": "markdown",
   "metadata": {},
   "source": [
    "My data is clean and relevant, and there are no missing values. "
   ]
  },
  {
   "cell_type": "markdown",
   "metadata": {},
   "source": [
    "VARIABLE ANALYSIS "
   ]
  },
  {
   "cell_type": "code",
   "execution_count": 10,
   "metadata": {},
   "outputs": [
    {
     "data": {
      "image/png": "[encoded data removed]",
      "text/plain": [
       "<Figure size 1500x700 with 10 Axes>"
      ]
     },
     "metadata": {},
     "output_type": "display_data"
    }
   ],
   "source": [
    "import matplotlib.pyplot as plt\n",
    "import seaborn as sns\n",
    "\n",
    "fig, axes = plt.subplots(2, 5, figsize=(15, 7)) \n",
    "\n",
    "axes = axes.flatten()\n",
    "\n",
    "columns_to_plot = [\"marital\", \"education\", \"default\", \"housing\", \"loan\", \"contact\", \"month\", \"day_of_week\", \"poutcome\", \"y\"] \n",
    "\n",
    "for i, column in enumerate(columns_to_plot):\n",
    "    if column in fred.columns:\n",
    "      if column in [\"Survived\"]:\n",
    "        sns.histplot(ax=axes[i], data=fred, x=column).set_xlim(-0.1, 1.1)\n",
    "      else:\n",
    "        sns.histplot(ax=axes[i], data=fred, x=column)\n",
    "      if i % 5 != 0: \n",
    "        axes[i].set(ylabel=None)\n",
    "    else:\n",
    "        print(f\"Warning: Column '{column}' not found in DataFrame.\")\n",
    "\n",
    "plt.tight_layout()\n",
    "\n",
    "plt.show()"
   ]
  },
  {
   "cell_type": "markdown",
   "metadata": {},
   "source": [
    "I want to clean the data and verify the categories in the educational level column; 'education' so I can have a more accurate interpretation of the analysis I am plotting. "
   ]
  },
  {
   "cell_type": "code",
   "execution_count": 11,
   "metadata": {},
   "outputs": [
    {
     "name": "stdout",
     "output_type": "stream",
     "text": [
      "Unique education levels:\n",
      "['basic.4y' 'high.school' 'basic.6y' 'basic.9y' 'professional.course'\n",
      " 'unknown' 'university.degree' 'illiterate']\n",
      "Number of unique education levels: 8\n"
     ]
    }
   ],
   "source": [
    "fred['education'] = fred['education'].str.lower()\n",
    "fred['education'] = fred['education'].str.strip()\n",
    "\n",
    "unique_education_levels = fred['education'].unique()\n",
    "print(\"Unique education levels:\")\n",
    "print(unique_education_levels)\n",
    "print(\"Number of unique education levels:\", len(unique_education_levels))\n",
    "\n"
   ]
  },
  {
   "cell_type": "code",
   "execution_count": 12,
   "metadata": {},
   "outputs": [
    {
     "name": "stdout",
     "output_type": "stream",
     "text": [
      "['may' 'jun' 'jul' 'aug' 'oct' 'nov' 'dec' 'mar' 'apr' 'sep']\n",
      "Months included in the data set: 10\n"
     ]
    }
   ],
   "source": [
    "unique_months = fred['month'].unique()\n",
    "print(unique_months)\n",
    "print(\"Months included in the data set:\", len(unique_months))\n"
   ]
  },
  {
   "cell_type": "markdown",
   "metadata": {},
   "source": [
    "\n",
    "\n",
    "\n",
    " 0   age             41188 non-null  int64 \n",
    "  10  duration        41188 non-null  int64  \n",
    " 11  campaign        41188 non-null  int64  \n",
    " 12  pdays           41188 non-null  int64  \n",
    " 13  previous        41188 non-null  int64 "
   ]
  }
 ],
 "metadata": {
  "kernelspec": {
   "display_name": "Python 3",
   "language": "python",
   "name": "python3"
  },
  "language_info": {
   "codemirror_mode": {
    "name": "ipython",
    "version": 3
   },
   "file_extension": ".py",
   "mimetype": "text/x-python",
   "name": "python",
   "nbconvert_exporter": "python",
   "pygments_lexer": "ipython3",
   "version": "3.12.1"
  }
 },
 "nbformat": 4,
 "nbformat_minor": 2
}
